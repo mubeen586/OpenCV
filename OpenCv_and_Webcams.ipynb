{
  "nbformat": 4,
  "nbformat_minor": 0,
  "metadata": {
    "colab": {
      "provenance": [],
      "authorship_tag": "ABX9TyOLCfgIMjLsJqsRW1sQfcy3"
    },
    "kernelspec": {
      "name": "python3",
      "display_name": "Python 3"
    },
    "language_info": {
      "name": "python"
    }
  },
  "cells": [
    {
      "cell_type": "markdown",
      "source": [
        "#YAhi Code VsCode MN Run Hota hai"
      ],
      "metadata": {
        "id": "KyC4kLam-RhA"
      }
    },
    {
      "cell_type": "code",
      "execution_count": 1,
      "metadata": {
        "colab": {
          "base_uri": "https://localhost:8080/"
        },
        "id": "QE54i_Cz9VN4",
        "outputId": "e197dbe5-3398-4933-d619-df9ba9a69daf"
      },
      "outputs": [
        {
          "output_type": "stream",
          "name": "stdout",
          "text": [
            "Requirement already satisfied: opencv-python-headless in /usr/local/lib/python3.10/dist-packages (4.9.0.80)\n",
            "Requirement already satisfied: numpy>=1.21.2 in /usr/local/lib/python3.10/dist-packages (from opencv-python-headless) (1.25.2)\n",
            "Mounted at /content/drive\n",
            "Error reading frame\n"
          ]
        }
      ],
      "source": [
        "# Install necessary libraries\n",
        "!pip install opencv-python-headless\n",
        "\n",
        "# Mount Google Drive\n",
        "from google.colab import drive\n",
        "drive.mount('/content/drive')\n",
        "\n"
      ]
    },
    {
      "cell_type": "markdown",
      "source": [],
      "metadata": {
        "id": "Chtl7DWb-vBA"
      }
    },
    {
      "cell_type": "code",
      "source": [
        "!pip install opencv-python"
      ],
      "metadata": {
        "colab": {
          "base_uri": "https://localhost:8080/"
        },
        "id": "p6J-W7v1-mWY",
        "outputId": "ffe374e5-6521-4c85-9d84-182b05efe4aa"
      },
      "execution_count": 7,
      "outputs": [
        {
          "output_type": "stream",
          "name": "stdout",
          "text": [
            "Requirement already satisfied: opencv-python in /usr/local/lib/python3.10/dist-packages (4.8.0.76)\n",
            "Requirement already satisfied: numpy>=1.21.2 in /usr/local/lib/python3.10/dist-packages (from opencv-python) (1.25.2)\n"
          ]
        }
      ]
    },
    {
      "cell_type": "code",
      "source": [
        "import cv2 as cv\n",
        "\n",
        "# Initialize video capture object\n",
        "cap = cv.VideoCapture(1)\n",
        "\n",
        "# Check if the webcam is opened successfully\n",
        "if not cap.isOpened():\n",
        "    print(\"Error opening webcam\")\n",
        "    exit()\n",
        "\n",
        "# Read frames from the webcam\n",
        "while True:\n",
        "    # Capture frame-by-frame\n",
        "    ret, frame = cap.read()\n",
        "\n",
        "    # Check if the frame is read correctly\n",
        "    if not ret:\n",
        "        break\n",
        "\n",
        "    # Convert the frame to grayscale\n",
        "    gray_frame = cv.cvtColor(frame, cv.COLOR_BGR2GRAY)\n",
        "\n",
        "    # Display the resulting frame\n",
        "    cv.imshow(\"webcam\", gray_frame)\n",
        "\n",
        "    # Press 'q' to exit\n",
        "    if cv.waitKey(25) & 0xFF == ord(\"q\"):\n",
        "        break\n",
        "\n",
        "# Release the capture and destroy all windows\n",
        "cap.release()\n",
        "cv.destroyAllWindows()"
      ],
      "metadata": {
        "colab": {
          "base_uri": "https://localhost:8080/"
        },
        "id": "xMnyCdo--miI",
        "outputId": "40706da2-faf0-4f70-e01d-cc53360c673d"
      },
      "execution_count": 9,
      "outputs": [
        {
          "output_type": "stream",
          "name": "stdout",
          "text": [
            "Error opening webcam\n"
          ]
        }
      ]
    },
    {
      "cell_type": "code",
      "source": [],
      "metadata": {
        "id": "ZremF1dl_Eah"
      },
      "execution_count": null,
      "outputs": []
    }
  ]
}