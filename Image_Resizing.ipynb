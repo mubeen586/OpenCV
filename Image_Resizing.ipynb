{
  "nbformat": 4,
  "nbformat_minor": 0,
  "metadata": {
    "colab": {
      "provenance": [],
      "authorship_tag": "ABX9TyPbxWSqMQIH8WJ6u7RlIq+X"
    },
    "kernelspec": {
      "name": "python3",
      "display_name": "Python 3"
    },
    "language_info": {
      "name": "python"
    }
  },
  "cells": [
    {
      "cell_type": "code",
      "execution_count": 1,
      "metadata": {
        "colab": {
          "base_uri": "https://localhost:8080/"
        },
        "id": "FUU-3DI5_WGv",
        "outputId": "e61ed866-482a-41b1-c910-12a19c81873e"
      },
      "outputs": [
        {
          "output_type": "stream",
          "name": "stdout",
          "text": [
            "Mounted at /content/drive\n"
          ]
        }
      ],
      "source": [
        "from google.colab import drive\n",
        "drive.mount('/content/drive')\n"
      ]
    },
    {
      "cell_type": "code",
      "source": [
        "import cv2\n",
        "!pip install opencv-python\n",
        "from google.colab.patches import cv2_imshow"
      ],
      "metadata": {
        "id": "ZsPNI4PdA_ic",
        "colab": {
          "base_uri": "https://localhost:8080/"
        },
        "outputId": "216c3fae-e062-43c9-ae01-a11dfde499cc"
      },
      "execution_count": 7,
      "outputs": [
        {
          "output_type": "stream",
          "name": "stdout",
          "text": [
            "Requirement already satisfied: opencv-python in /usr/local/lib/python3.10/dist-packages (4.8.0.76)\n",
            "Requirement already satisfied: numpy>=1.21.2 in /usr/local/lib/python3.10/dist-packages (from opencv-python) (1.25.2)\n"
          ]
        }
      ]
    },
    {
      "cell_type": "code",
      "source": [
        "img = cv2.imread(\"/content/drive/MyDrive/MyNumberDataset/zeroTOnine/Picture0.jpeg\")"
      ],
      "metadata": {
        "id": "Jz0uUHxk7M0v"
      },
      "execution_count": 8,
      "outputs": []
    },
    {
      "cell_type": "code",
      "source": [
        "img_resize = cv2.resize(img, (100,100))"
      ],
      "metadata": {
        "id": "hi0b3Z9t7cka"
      },
      "execution_count": 11,
      "outputs": []
    },
    {
      "cell_type": "code",
      "source": [
        "cv2_imshow(img_resize)"
      ],
      "metadata": {
        "colab": {
          "base_uri": "https://localhost:8080/",
          "height": 117
        },
        "id": "Bsc-Xsiv74kl",
        "outputId": "cd999982-7426-456e-e0dc-f267c940f8e4"
      },
      "execution_count": 12,
      "outputs": [
        {
          "output_type": "display_data",
          "data": {
            "text/plain": [
              "<PIL.Image.Image image mode=RGB size=100x100>"
            ],
            "image/png": "[encoded data removed]"
          },
          "metadata": {}
        }
      ]
    },
    {
      "cell_type": "code",
      "source": [],
      "metadata": {
        "id": "0sm8PkNzEPah"
      },
      "execution_count": null,
      "outputs": []
    },
    {
      "cell_type": "markdown",
      "source": [
        "#For Multiple Pictures(resizing)"
      ],
      "metadata": {
        "id": "8l-kCOgd9Tmf"
      }
    },
    {
      "cell_type": "code",
      "source": [
        "from google.colab import drive\n",
        "import cv2\n",
        "from google.colab.patches import cv2_imshow\n",
        "import os"
      ],
      "metadata": {
        "id": "bL4JeFX89WPd"
      },
      "execution_count": 13,
      "outputs": []
    },
    {
      "cell_type": "code",
      "source": [
        "# Mount Google Drive\n",
        "drive.mount('/content/drive')"
      ],
      "metadata": {
        "colab": {
          "base_uri": "https://localhost:8080/"
        },
        "id": "gVOlkgGs9aL-",
        "outputId": "1a3f5ef0-581c-45ec-cffd-dd0f30908bfe"
      },
      "execution_count": 14,
      "outputs": [
        {
          "output_type": "stream",
          "name": "stdout",
          "text": [
            "Drive already mounted at /content/drive; to attempt to forcibly remount, call drive.mount(\"/content/drive\", force_remount=True).\n"
          ]
        }
      ]
    },
    {
      "cell_type": "code",
      "source": [
        "# Path to the folder containing your images in Google Drive\n",
        "folder_path = '/content/drive/MyDrive/MyNumberDataset/zeroTOnine'"
      ],
      "metadata": {
        "id": "ljiUvuTI9ax5"
      },
      "execution_count": 16,
      "outputs": []
    },
    {
      "cell_type": "code",
      "source": [
        "# Path to the folder where you want to save the resized images\n",
        "save_path = '/content/drive/MyDrive/MyNumberDataset/resized/'\n",
        "# Create the folder if it doesn't exist\n",
        "if not os.path.exists(save_path):\n",
        "    os.makedirs(save_path)\n",
        "    # Function to resize image\n",
        "def resize_image(image_path, save_path, new_size):\n",
        "    # Read the image\n",
        "    img = cv2.imread(image_path)\n",
        "\n",
        "    # Resize the image\n",
        "    img_resized = cv2.resize(img, new_size)\n",
        "\n",
        "    # Get the filename from the full path\n",
        "    filename = os.path.basename(image_path)\n",
        "\n",
        "    # Construct the path to save the resized image\n",
        "    save_file_path = os.path.join(save_path, filename)\n",
        "\n",
        "    # Save the resized image\n",
        "    cv2.imwrite(save_file_path, img_resized)\n",
        "\n",
        "# Loop through images in the folder\n",
        "for filename in os.listdir(folder_path):\n",
        "    if filename.endswith(\".jpeg\") or filename.endswith(\".jpg\"):\n",
        "        # Construct full path to the image\n",
        "        image_path = os.path.join(folder_path, filename)\n",
        "\n",
        "        # Resize the image and save\n",
        "        resize_image(image_path, save_path, (28, 28))\n",
        "        print(f\"Resized image saved to: {os.path.join(save_path, filename)}\")"
      ],
      "metadata": {
        "colab": {
          "base_uri": "https://localhost:8080/"
        },
        "id": "fhGijXol9fgy",
        "outputId": "8d8f6890-2732-4804-f242-cbedf67aa9d7"
      },
      "execution_count": 20,
      "outputs": [
        {
          "output_type": "stream",
          "name": "stdout",
          "text": [
            "Resized image saved to: /content/drive/MyDrive/MyNumberDataset/resized/Picture0.jpeg\n",
            "Resized image saved to: /content/drive/MyDrive/MyNumberDataset/resized/Picture1.jpeg\n",
            "Resized image saved to: /content/drive/MyDrive/MyNumberDataset/resized/Picture2.jpeg\n",
            "Resized image saved to: /content/drive/MyDrive/MyNumberDataset/resized/Picture3.jpeg\n",
            "Resized image saved to: /content/drive/MyDrive/MyNumberDataset/resized/Picture4.jpeg\n",
            "Resized image saved to: /content/drive/MyDrive/MyNumberDataset/resized/Picture5.jpeg\n",
            "Resized image saved to: /content/drive/MyDrive/MyNumberDataset/resized/Picture6.jpeg\n",
            "Resized image saved to: /content/drive/MyDrive/MyNumberDataset/resized/Picture7.jpeg\n",
            "Resized image saved to: /content/drive/MyDrive/MyNumberDataset/resized/Picture8.jpeg\n",
            "Resized image saved to: /content/drive/MyDrive/MyNumberDataset/resized/Picture9.jpeg\n"
          ]
        }
      ]
    },
    {
      "cell_type": "code",
      "source": [],
      "metadata": {
        "id": "1SzLcU_S9nhu"
      },
      "execution_count": null,
      "outputs": []
    },
    {
      "cell_type": "markdown",
      "source": [
        "#NOw we convert these resized images into single channel (1)"
      ],
      "metadata": {
        "id": "FeQspQN9-M_-"
      }
    },
    {
      "cell_type": "code",
      "source": [
        "from google.colab import drive\n",
        "import cv2\n",
        "from google.colab.patches import cv2_imshow\n",
        "import os\n",
        "\n",
        "# Mount Google Drive\n",
        "drive.mount('/content/drive')\n",
        "\n",
        "# Path to the folder containing your images in Google Drive\n",
        "folder_path = '/content/drive/MyDrive/MyNumberDataset/zeroTOnine/'\n",
        "\n",
        "# Path to the folder where you want to save the resized and converted images\n",
        "save_path = '/content/drive/MyDrive/MyNumberDataset/resized_single_channel/'\n",
        "\n",
        "# Create the folder if it doesn't exist\n",
        "if not os.path.exists(save_path):\n",
        "    os.makedirs(save_path)\n",
        "\n",
        "# Function to resize and convert image to single-channel (grayscale)\n",
        "def resize_and_convert(image_path, save_path, new_size):\n",
        "    # Read the image\n",
        "    img = cv2.imread(image_path)\n",
        "\n",
        "    # Resize the image\n",
        "    img_resized = cv2.resize(img, new_size)\n",
        "\n",
        "    # Convert to single-channel (grayscale)\n",
        "    img_gray = cv2.cvtColor(img_resized, cv2.COLOR_BGR2GRAY)\n",
        "\n",
        "    # Get the filename from the full path\n",
        "    filename = os.path.basename(image_path)\n",
        "\n",
        "    # Construct the path to save the resized and converted image\n",
        "    save_file_path = os.path.join(save_path, filename)\n",
        "\n",
        "    # Save the resized and converted image\n",
        "    cv2.imwrite(save_file_path, img_gray)\n",
        "\n",
        "# Loop through images in the folder\n",
        "for filename in os.listdir(folder_path):\n",
        "    if filename.endswith(\".jpeg\") or filename.endswith(\".jpg\"):\n",
        "        # Construct full path to the image\n",
        "        image_path = os.path.join(folder_path, filename)\n",
        "\n",
        "        # Resize and convert the image\n",
        "        resize_and_convert(image_path, save_path, (28, 28))\n",
        "        print(f\"Resized and converted image saved to: {os.path.join(save_path, filename)}\")\n"
      ],
      "metadata": {
        "colab": {
          "base_uri": "https://localhost:8080/"
        },
        "id": "93vD0SWz-T8r",
        "outputId": "2aabe37c-6217-4609-9fb2-6f914f920ede"
      },
      "execution_count": 21,
      "outputs": [
        {
          "output_type": "stream",
          "name": "stdout",
          "text": [
            "Drive already mounted at /content/drive; to attempt to forcibly remount, call drive.mount(\"/content/drive\", force_remount=True).\n",
            "Resized and converted image saved to: /content/drive/MyDrive/MyNumberDataset/resized_single_channel/Picture0.jpeg\n",
            "Resized and converted image saved to: /content/drive/MyDrive/MyNumberDataset/resized_single_channel/Picture1.jpeg\n",
            "Resized and converted image saved to: /content/drive/MyDrive/MyNumberDataset/resized_single_channel/Picture2.jpeg\n",
            "Resized and converted image saved to: /content/drive/MyDrive/MyNumberDataset/resized_single_channel/Picture3.jpeg\n",
            "Resized and converted image saved to: /content/drive/MyDrive/MyNumberDataset/resized_single_channel/Picture4.jpeg\n",
            "Resized and converted image saved to: /content/drive/MyDrive/MyNumberDataset/resized_single_channel/Picture5.jpeg\n",
            "Resized and converted image saved to: /content/drive/MyDrive/MyNumberDataset/resized_single_channel/Picture6.jpeg\n",
            "Resized and converted image saved to: /content/drive/MyDrive/MyNumberDataset/resized_single_channel/Picture7.jpeg\n",
            "Resized and converted image saved to: /content/drive/MyDrive/MyNumberDataset/resized_single_channel/Picture8.jpeg\n",
            "Resized and converted image saved to: /content/drive/MyDrive/MyNumberDataset/resized_single_channel/Picture9.jpeg\n"
          ]
        }
      ]
    },
    {
      "cell_type": "code",
      "source": [],
      "metadata": {
        "id": "6v23WuQ3-ZyM"
      },
      "execution_count": null,
      "outputs": []
    }
  ]
}